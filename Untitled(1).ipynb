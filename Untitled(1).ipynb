{
 "cells": [
  {
   "cell_type": "code",
   "execution_count": 2,
   "metadata": {},
   "outputs": [],
   "source": [
    "import sys\n",
    "import os\n",
    "import comtypes.client\n",
    "import re\n",
    "import docx\n",
    "from docx import Document"
   ]
  },
  {
   "cell_type": "code",
   "execution_count": 3,
   "metadata": {},
   "outputs": [
    {
     "name": "stdout",
     "output_type": "stream",
     "text": [
      "Requirement already satisfied: aspose-words in c:\\users\\jeremy\\anaconda3\\lib\\site-packages (22.10.0)\n",
      "Requirement already satisfied: python-docx in c:\\users\\jeremy\\anaconda3\\lib\\site-packages (0.8.11)\n",
      "Requirement already satisfied: lxml>=2.3.2 in c:\\users\\jeremy\\anaconda3\\lib\\site-packages (from python-docx) (4.4.1)\n"
     ]
    }
   ],
   "source": [
    "!pip install aspose-words\n",
    "!pip install python-docx"
   ]
  },
  {
   "cell_type": "code",
   "execution_count": 4,
   "metadata": {},
   "outputs": [],
   "source": [
    "def docx_replace_regex(doc_obj, regex , replace):\n",
    "\n",
    "    for p in doc_obj.paragraphs:\n",
    "        if regex.search(p.text):\n",
    "            inline = p.runs\n",
    "            # Loop added to work with runs (strings with same style)\n",
    "            for i in range(len(inline)):\n",
    "                if regex.search(inline[i].text):\n",
    "                    text = regex.sub(replace, inline[i].text)\n",
    "                    inline[i].text = text\n",
    "\n",
    "    for table in doc_obj.tables:\n",
    "        for row in table.rows:\n",
    "            for cell in row.cells:\n",
    "                docx_replace_regex(cell, regex , replace)"
   ]
  },
  {
   "cell_type": "code",
   "execution_count": 8,
   "metadata": {},
   "outputs": [
    {
     "name": "stdout",
     "output_type": "stream",
     "text": [
      "Pour une grosse boite américaine : 1\n",
      "Pour une grosse boite francaise : 2\n",
      "Pour une petite boite américaine : 3\n",
      "Pour une petite boite francaise : 4\n",
      "1\n",
      "Nom de la boite ?\n",
      "JPMorgan\n",
      "FINI Chef !\n"
     ]
    }
   ],
   "source": [
    "\n",
    "\n",
    "wdFormatPDF = 17\n",
    "print(\"Pour une grosse boite américaine : 1\")\n",
    "print(\"Pour une grosse boite francaise : 2\")\n",
    "print(\"Pour une petite boite américaine : 3\")\n",
    "print(\"Pour une petite boite francaise : 4\")\n",
    "\n",
    "a=input()\n",
    "print(\"Nom de la boite ?\")\n",
    "boite=input()\n",
    "\n",
    "\n",
    "if(a==\"1\"):\n",
    "    origine=\"C:/Users/Jeremy/Desktop/CSULB/Stage Je défonce tout/Cover Big business/CoverLetter.docx\"\n",
    "    Final=\"C:/Users/Jeremy/Desktop/CSULB/Stage Je défonce tout/USINE PDF/CoverLetter\"+boite+\".pdf\"\n",
    "if(a==\"2\"):\n",
    "    origine=\"C:/Users/Jeremy/Desktop/CSULB/Stage Je défonce tout/Lettre Motiv Grosse/LettreDeMotivation.docx\"\n",
    "    Final=\"C:/Users/Jeremy/Desktop/CSULB/Stage Je défonce tout/USINE PDF/LettreDeMotivation\"+boite+\".pdf\"\n",
    "if(a==\"4\"):\n",
    "    origine=\"C:/Users/Jeremy/Desktop/CSULB/Stage Je défonce tout/Lettre Motiv Petite/LettreDeMotivation.docx\"\n",
    "    Final=\"C:/Users/Jeremy/Desktop/CSULB/Stage Je défonce tout/USINE PDF/LettreDeMotivation\"+boite+\".pdf\"\n",
    "    \n",
    "middle=\"C:/Users/Jeremy/Desktop/CSULB/Stage Je défonce tout/USINE PDF/temporaire.docx\"\n",
    "\n",
    "\n",
    "regex1 = re.compile(\"ACHANGER\")\n",
    "replace1 = boite\n",
    "doc = Document(origine)\n",
    "docx_replace_regex(doc, regex1 , replace1)\n",
    "doc.save(middle)\n",
    "\n",
    "\n",
    "#TO PDF\n",
    "\n",
    "\n",
    "in_file = os.path.abspath(middle)\n",
    "out_file = os.path.abspath(Final)\n",
    "    \n",
    "word = comtypes.client.CreateObject('Word.Application')\n",
    "doc = word.Documents.Open(in_file)\n",
    "doc.SaveAs(out_file, FileFormat=wdFormatPDF)\n",
    "doc.Close()\n",
    "word.Quit()\n",
    "print(\"FINI Chef !\")"
   ]
  },
  {
   "cell_type": "code",
   "execution_count": null,
   "metadata": {},
   "outputs": [],
   "source": []
  }
 ],
 "metadata": {
  "kernelspec": {
   "display_name": "Python 3",
   "language": "python",
   "name": "python3"
  },
  "language_info": {
   "codemirror_mode": {
    "name": "ipython",
    "version": 3
   },
   "file_extension": ".py",
   "mimetype": "text/x-python",
   "name": "python",
   "nbconvert_exporter": "python",
   "pygments_lexer": "ipython3",
   "version": "3.7.4"
  }
 },
 "nbformat": 4,
 "nbformat_minor": 2
}
